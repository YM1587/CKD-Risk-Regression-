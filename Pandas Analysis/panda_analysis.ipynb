{
 "cells": [
  {
   "cell_type": "markdown",
   "id": "a6431195-851d-40a4-8840-4c4fb0fa882f",
   "metadata": {},
   "source": [
    "# Chronic Kidney Disease (CKD) Data Analysis\n",
    "\n",
    "## Introduction\n",
    "Chronic Kidney Disease (CKD) is a global health problem that affects millions of people every year. \n",
    "This project applies **data analytics techniques** to explore and analyze the CKD dataset, with the goal of \n",
    "identifying key risk factors and drawing insights that can support early detection and prevention.\n",
    "\n",
    "## Objectives\n",
    "- To clean and prepare the CKD dataset for analysis.  \n",
    "- To perform exploratory data analysis (EDA) and identify important trends and patterns.  \n",
    "- To visualize risk factors associated with CKD.  \n",
    "- To interpret findings and provide data-driven conclusions.  "
   ]
  },
  {
   "cell_type": "code",
   "execution_count": 5,
   "id": "cc29c656-d9ba-4cea-95b6-0c6eb6a1b3e7",
   "metadata": {},
   "outputs": [
    {
     "name": "stdout",
     "output_type": "stream",
     "text": [
      "dict_keys(['Data Description', 'CKD Risk Data', 'Correlation', 'Regression Model'])\n"
     ]
    }
   ],
   "source": [
    "import pandas as pd\n",
    "file = \"Data.xlsx\"\n",
    "sheets =  pd.read_excel(file,sheet_name=None)\n",
    "print(sheets.keys())"
   ]
  },
  {
   "cell_type": "code",
   "execution_count": 10,
   "id": "47d1b64b-75cf-4913-a596-1a88b6ccad8d",
   "metadata": {},
   "outputs": [
    {
     "data": {
      "text/html": [
       "<div>\n",
       "<style scoped>\n",
       "    .dataframe tbody tr th:only-of-type {\n",
       "        vertical-align: middle;\n",
       "    }\n",
       "\n",
       "    .dataframe tbody tr th {\n",
       "        vertical-align: top;\n",
       "    }\n",
       "\n",
       "    .dataframe thead th {\n",
       "        text-align: right;\n",
       "    }\n",
       "</style>\n",
       "<table border=\"1\" class=\"dataframe\">\n",
       "  <thead>\n",
       "    <tr style=\"text-align: right;\">\n",
       "      <th></th>\n",
       "      <th>ID</th>\n",
       "      <th>Age</th>\n",
       "      <th>Residence</th>\n",
       "      <th>CKD Risk Score</th>\n",
       "      <th>Diabetes Mellitus</th>\n",
       "      <th>Blood Pressure</th>\n",
       "      <th>Hypertension</th>\n",
       "      <th>Blood Sugar</th>\n",
       "      <th>Blood Glucose</th>\n",
       "      <th>Reticulocyte Count</th>\n",
       "      <th>Packed Cell Volume</th>\n",
       "      <th>Haemoglobin</th>\n",
       "      <th>Red Blood Cell Count</th>\n",
       "      <th>White Blood Cell Count</th>\n",
       "      <th>Blood Urea</th>\n",
       "      <th>Serum Creatinine</th>\n",
       "      <th>Alcohol Intake</th>\n",
       "      <th>Physical Activity</th>\n",
       "    </tr>\n",
       "  </thead>\n",
       "  <tbody>\n",
       "    <tr>\n",
       "      <th>0</th>\n",
       "      <td>1</td>\n",
       "      <td>86</td>\n",
       "      <td>Urban</td>\n",
       "      <td>82.194168</td>\n",
       "      <td>No</td>\n",
       "      <td>123</td>\n",
       "      <td>No</td>\n",
       "      <td>2</td>\n",
       "      <td>119</td>\n",
       "      <td>1.071754</td>\n",
       "      <td>20</td>\n",
       "      <td>14.7</td>\n",
       "      <td>6.05</td>\n",
       "      <td>6817</td>\n",
       "      <td>3.282934</td>\n",
       "      <td>41.590812</td>\n",
       "      <td>High</td>\n",
       "      <td>Active</td>\n",
       "    </tr>\n",
       "    <tr>\n",
       "      <th>1</th>\n",
       "      <td>2</td>\n",
       "      <td>66</td>\n",
       "      <td>Urban</td>\n",
       "      <td>43.231758</td>\n",
       "      <td>Yes</td>\n",
       "      <td>103</td>\n",
       "      <td>No</td>\n",
       "      <td>1</td>\n",
       "      <td>238</td>\n",
       "      <td>1.196210</td>\n",
       "      <td>23</td>\n",
       "      <td>15.1</td>\n",
       "      <td>5.04</td>\n",
       "      <td>6438</td>\n",
       "      <td>1.819046</td>\n",
       "      <td>84.642535</td>\n",
       "      <td>High</td>\n",
       "      <td>Active</td>\n",
       "    </tr>\n",
       "    <tr>\n",
       "      <th>2</th>\n",
       "      <td>3</td>\n",
       "      <td>24</td>\n",
       "      <td>Rural</td>\n",
       "      <td>71.791997</td>\n",
       "      <td>Yes</td>\n",
       "      <td>151</td>\n",
       "      <td>No</td>\n",
       "      <td>0</td>\n",
       "      <td>372</td>\n",
       "      <td>2.531091</td>\n",
       "      <td>40</td>\n",
       "      <td>13.6</td>\n",
       "      <td>2.67</td>\n",
       "      <td>11071</td>\n",
       "      <td>2.495975</td>\n",
       "      <td>157.521097</td>\n",
       "      <td>High</td>\n",
       "      <td>Active</td>\n",
       "    </tr>\n",
       "    <tr>\n",
       "      <th>3</th>\n",
       "      <td>4</td>\n",
       "      <td>40</td>\n",
       "      <td>Rural</td>\n",
       "      <td>39.146159</td>\n",
       "      <td>Yes</td>\n",
       "      <td>165</td>\n",
       "      <td>No</td>\n",
       "      <td>2</td>\n",
       "      <td>448</td>\n",
       "      <td>1.980966</td>\n",
       "      <td>30</td>\n",
       "      <td>11.8</td>\n",
       "      <td>6.30</td>\n",
       "      <td>6594</td>\n",
       "      <td>1.378014</td>\n",
       "      <td>190.107385</td>\n",
       "      <td>High</td>\n",
       "      <td>Active</td>\n",
       "    </tr>\n",
       "    <tr>\n",
       "      <th>4</th>\n",
       "      <td>5</td>\n",
       "      <td>43</td>\n",
       "      <td>Urban</td>\n",
       "      <td>64.029626</td>\n",
       "      <td>No</td>\n",
       "      <td>113</td>\n",
       "      <td>No</td>\n",
       "      <td>1</td>\n",
       "      <td>301</td>\n",
       "      <td>2.948063</td>\n",
       "      <td>52</td>\n",
       "      <td>15.4</td>\n",
       "      <td>4.35</td>\n",
       "      <td>12708</td>\n",
       "      <td>2.264839</td>\n",
       "      <td>152.740807</td>\n",
       "      <td>High</td>\n",
       "      <td>Active</td>\n",
       "    </tr>\n",
       "  </tbody>\n",
       "</table>\n",
       "</div>"
      ],
      "text/plain": [
       "   ID  Age Residence  CKD Risk Score Diabetes Mellitus  Blood Pressure  \\\n",
       "0   1   86     Urban       82.194168                No             123   \n",
       "1   2   66     Urban       43.231758               Yes             103   \n",
       "2   3   24     Rural       71.791997               Yes             151   \n",
       "3   4   40     Rural       39.146159               Yes             165   \n",
       "4   5   43     Urban       64.029626                No             113   \n",
       "\n",
       "  Hypertension  Blood Sugar  Blood Glucose  Reticulocyte Count   \\\n",
       "0           No            2            119             1.071754   \n",
       "1           No            1            238             1.196210   \n",
       "2           No            0            372             2.531091   \n",
       "3           No            2            448             1.980966   \n",
       "4           No            1            301             2.948063   \n",
       "\n",
       "   Packed Cell Volume  Haemoglobin  Red Blood Cell Count  \\\n",
       "0                  20         14.7                  6.05   \n",
       "1                  23         15.1                  5.04   \n",
       "2                  40         13.6                  2.67   \n",
       "3                  30         11.8                  6.30   \n",
       "4                  52         15.4                  4.35   \n",
       "\n",
       "   White Blood Cell Count  Blood Urea  Serum Creatinine Alcohol Intake  \\\n",
       "0                    6817    3.282934         41.590812           High   \n",
       "1                    6438    1.819046         84.642535           High   \n",
       "2                   11071    2.495975        157.521097           High   \n",
       "3                    6594    1.378014        190.107385           High   \n",
       "4                   12708    2.264839        152.740807           High   \n",
       "\n",
       "  Physical Activity  \n",
       "0            Active  \n",
       "1            Active  \n",
       "2            Active  \n",
       "3            Active  \n",
       "4            Active  "
      ]
     },
     "execution_count": 10,
     "metadata": {},
     "output_type": "execute_result"
    }
   ],
   "source": [
    "df = sheets[\"CKD Risk Data\"]\n",
    "df.head()"
   ]
  },
  {
   "cell_type": "code",
   "execution_count": 12,
   "id": "74f7b2a7-5a7a-4c3a-acdd-c336cee2f665",
   "metadata": {},
   "outputs": [
    {
     "data": {
      "text/plain": [
       "(250, 18)"
      ]
     },
     "execution_count": 12,
     "metadata": {},
     "output_type": "execute_result"
    }
   ],
   "source": [
    "df.shape"
   ]
  },
  {
   "cell_type": "code",
   "execution_count": 14,
   "id": "fbeccf23-829c-4bdb-8bf1-2275253ab014",
   "metadata": {},
   "outputs": [
    {
     "data": {
      "text/plain": [
       "ID                         0\n",
       "Age                        0\n",
       "Residence                  0\n",
       "CKD Risk Score             0\n",
       "Diabetes Mellitus          0\n",
       "Blood Pressure             0\n",
       "Hypertension               0\n",
       "Blood Sugar                0\n",
       "Blood Glucose              0\n",
       "Reticulocyte Count         0\n",
       "Packed Cell Volume         0\n",
       "Haemoglobin                0\n",
       "Red Blood Cell Count       0\n",
       "White Blood Cell Count     0\n",
       "Blood Urea                 0\n",
       "Serum Creatinine           0\n",
       "Alcohol Intake            74\n",
       "Physical Activity          0\n",
       "dtype: int64"
      ]
     },
     "execution_count": 14,
     "metadata": {},
     "output_type": "execute_result"
    }
   ],
   "source": [
    "df.isnull().sum()"
   ]
  },
  {
   "cell_type": "code",
   "execution_count": 15,
   "id": "7fffaeea-3ba3-48c1-9fc0-f7e9dd4e2d44",
   "metadata": {},
   "outputs": [
    {
     "data": {
      "text/plain": [
       "array(['High', 'Moderate', nan], dtype=object)"
      ]
     },
     "execution_count": 15,
     "metadata": {},
     "output_type": "execute_result"
    }
   ],
   "source": [
    "df[\"Alcohol Intake\"].unique()"
   ]
  },
  {
   "cell_type": "code",
   "execution_count": 18,
   "id": "a80e876d-94ab-4ef2-ae09-5025d5d117cc",
   "metadata": {},
   "outputs": [
    {
     "data": {
      "text/plain": [
       "ID                        0\n",
       "Age                       0\n",
       "Residence                 0\n",
       "CKD Risk Score            0\n",
       "Diabetes Mellitus         0\n",
       "Blood Pressure            0\n",
       "Hypertension              0\n",
       "Blood Sugar               0\n",
       "Blood Glucose             0\n",
       "Reticulocyte Count        0\n",
       "Packed Cell Volume        0\n",
       "Haemoglobin               0\n",
       "Red Blood Cell Count      0\n",
       "White Blood Cell Count    0\n",
       "Blood Urea                0\n",
       "Serum Creatinine          0\n",
       "Alcohol Intake            0\n",
       "Physical Activity         0\n",
       "dtype: int64"
      ]
     },
     "execution_count": 18,
     "metadata": {},
     "output_type": "execute_result"
    }
   ],
   "source": [
    "df[\"Alcohol Intake\"] = df[\"Alcohol Intake\"].fillna(\"None\")\n",
    "df.isnull().sum()"
   ]
  },
  {
   "cell_type": "code",
   "execution_count": 19,
   "id": "2f05f0a4-1c7c-4abb-9469-cd101d3e05bf",
   "metadata": {},
   "outputs": [
    {
     "data": {
      "text/html": [
       "<div>\n",
       "<style scoped>\n",
       "    .dataframe tbody tr th:only-of-type {\n",
       "        vertical-align: middle;\n",
       "    }\n",
       "\n",
       "    .dataframe tbody tr th {\n",
       "        vertical-align: top;\n",
       "    }\n",
       "\n",
       "    .dataframe thead th {\n",
       "        text-align: right;\n",
       "    }\n",
       "</style>\n",
       "<table border=\"1\" class=\"dataframe\">\n",
       "  <thead>\n",
       "    <tr style=\"text-align: right;\">\n",
       "      <th></th>\n",
       "      <th>ID</th>\n",
       "      <th>Age</th>\n",
       "      <th>CKD Risk Score</th>\n",
       "      <th>Blood Pressure</th>\n",
       "      <th>Blood Sugar</th>\n",
       "      <th>Blood Glucose</th>\n",
       "      <th>Reticulocyte Count</th>\n",
       "      <th>Packed Cell Volume</th>\n",
       "      <th>Haemoglobin</th>\n",
       "      <th>Red Blood Cell Count</th>\n",
       "      <th>White Blood Cell Count</th>\n",
       "      <th>Blood Urea</th>\n",
       "      <th>Serum Creatinine</th>\n",
       "    </tr>\n",
       "  </thead>\n",
       "  <tbody>\n",
       "    <tr>\n",
       "      <th>count</th>\n",
       "      <td>250.000000</td>\n",
       "      <td>250.000000</td>\n",
       "      <td>250.000000</td>\n",
       "      <td>250.000000</td>\n",
       "      <td>250.000000</td>\n",
       "      <td>250.000000</td>\n",
       "      <td>250.000000</td>\n",
       "      <td>250.000000</td>\n",
       "      <td>250.000000</td>\n",
       "      <td>250.000000</td>\n",
       "      <td>250.000000</td>\n",
       "      <td>250.000000</td>\n",
       "      <td>250.000000</td>\n",
       "    </tr>\n",
       "    <tr>\n",
       "      <th>mean</th>\n",
       "      <td>125.500000</td>\n",
       "      <td>53.260000</td>\n",
       "      <td>57.983781</td>\n",
       "      <td>120.780000</td>\n",
       "      <td>2.472000</td>\n",
       "      <td>279.832000</td>\n",
       "      <td>2.065026</td>\n",
       "      <td>36.708000</td>\n",
       "      <td>11.000800</td>\n",
       "      <td>4.618600</td>\n",
       "      <td>9378.124000</td>\n",
       "      <td>2.391250</td>\n",
       "      <td>117.983519</td>\n",
       "    </tr>\n",
       "    <tr>\n",
       "      <th>std</th>\n",
       "      <td>72.312977</td>\n",
       "      <td>20.759098</td>\n",
       "      <td>17.737879</td>\n",
       "      <td>35.155701</td>\n",
       "      <td>1.763421</td>\n",
       "      <td>122.550882</td>\n",
       "      <td>0.585775</td>\n",
       "      <td>10.149423</td>\n",
       "      <td>3.661961</td>\n",
       "      <td>1.076358</td>\n",
       "      <td>3227.389973</td>\n",
       "      <td>0.819981</td>\n",
       "      <td>40.637299</td>\n",
       "    </tr>\n",
       "    <tr>\n",
       "      <th>min</th>\n",
       "      <td>1.000000</td>\n",
       "      <td>20.000000</td>\n",
       "      <td>4.323176</td>\n",
       "      <td>60.000000</td>\n",
       "      <td>0.000000</td>\n",
       "      <td>70.000000</td>\n",
       "      <td>0.874126</td>\n",
       "      <td>20.000000</td>\n",
       "      <td>5.000000</td>\n",
       "      <td>2.520000</td>\n",
       "      <td>4018.000000</td>\n",
       "      <td>0.770744</td>\n",
       "      <td>38.237198</td>\n",
       "    </tr>\n",
       "    <tr>\n",
       "      <th>25%</th>\n",
       "      <td>63.250000</td>\n",
       "      <td>35.250000</td>\n",
       "      <td>46.676049</td>\n",
       "      <td>91.000000</td>\n",
       "      <td>1.000000</td>\n",
       "      <td>175.250000</td>\n",
       "      <td>1.653822</td>\n",
       "      <td>27.250000</td>\n",
       "      <td>8.100000</td>\n",
       "      <td>3.892500</td>\n",
       "      <td>6564.000000</td>\n",
       "      <td>1.718965</td>\n",
       "      <td>84.701509</td>\n",
       "    </tr>\n",
       "    <tr>\n",
       "      <th>50%</th>\n",
       "      <td>125.500000</td>\n",
       "      <td>52.500000</td>\n",
       "      <td>58.138066</td>\n",
       "      <td>119.500000</td>\n",
       "      <td>2.000000</td>\n",
       "      <td>269.500000</td>\n",
       "      <td>2.056248</td>\n",
       "      <td>37.000000</td>\n",
       "      <td>10.900000</td>\n",
       "      <td>4.620000</td>\n",
       "      <td>9296.000000</td>\n",
       "      <td>2.383499</td>\n",
       "      <td>117.691690</td>\n",
       "    </tr>\n",
       "    <tr>\n",
       "      <th>75%</th>\n",
       "      <td>187.750000</td>\n",
       "      <td>72.000000</td>\n",
       "      <td>71.345585</td>\n",
       "      <td>153.000000</td>\n",
       "      <td>4.000000</td>\n",
       "      <td>380.500000</td>\n",
       "      <td>2.485562</td>\n",
       "      <td>45.000000</td>\n",
       "      <td>14.300000</td>\n",
       "      <td>5.507500</td>\n",
       "      <td>12051.750000</td>\n",
       "      <td>3.079916</td>\n",
       "      <td>151.857328</td>\n",
       "    </tr>\n",
       "    <tr>\n",
       "      <th>max</th>\n",
       "      <td>250.000000</td>\n",
       "      <td>89.000000</td>\n",
       "      <td>96.128144</td>\n",
       "      <td>179.000000</td>\n",
       "      <td>5.000000</td>\n",
       "      <td>499.000000</td>\n",
       "      <td>3.409239</td>\n",
       "      <td>54.000000</td>\n",
       "      <td>17.500000</td>\n",
       "      <td>6.460000</td>\n",
       "      <td>14996.000000</td>\n",
       "      <td>4.172717</td>\n",
       "      <td>205.755871</td>\n",
       "    </tr>\n",
       "  </tbody>\n",
       "</table>\n",
       "</div>"
      ],
      "text/plain": [
       "               ID         Age  CKD Risk Score  Blood Pressure  Blood Sugar  \\\n",
       "count  250.000000  250.000000      250.000000      250.000000   250.000000   \n",
       "mean   125.500000   53.260000       57.983781      120.780000     2.472000   \n",
       "std     72.312977   20.759098       17.737879       35.155701     1.763421   \n",
       "min      1.000000   20.000000        4.323176       60.000000     0.000000   \n",
       "25%     63.250000   35.250000       46.676049       91.000000     1.000000   \n",
       "50%    125.500000   52.500000       58.138066      119.500000     2.000000   \n",
       "75%    187.750000   72.000000       71.345585      153.000000     4.000000   \n",
       "max    250.000000   89.000000       96.128144      179.000000     5.000000   \n",
       "\n",
       "       Blood Glucose  Reticulocyte Count   Packed Cell Volume  Haemoglobin  \\\n",
       "count     250.000000           250.000000          250.000000   250.000000   \n",
       "mean      279.832000             2.065026           36.708000    11.000800   \n",
       "std       122.550882             0.585775           10.149423     3.661961   \n",
       "min        70.000000             0.874126           20.000000     5.000000   \n",
       "25%       175.250000             1.653822           27.250000     8.100000   \n",
       "50%       269.500000             2.056248           37.000000    10.900000   \n",
       "75%       380.500000             2.485562           45.000000    14.300000   \n",
       "max       499.000000             3.409239           54.000000    17.500000   \n",
       "\n",
       "       Red Blood Cell Count  White Blood Cell Count  Blood Urea  \\\n",
       "count            250.000000              250.000000  250.000000   \n",
       "mean               4.618600             9378.124000    2.391250   \n",
       "std                1.076358             3227.389973    0.819981   \n",
       "min                2.520000             4018.000000    0.770744   \n",
       "25%                3.892500             6564.000000    1.718965   \n",
       "50%                4.620000             9296.000000    2.383499   \n",
       "75%                5.507500            12051.750000    3.079916   \n",
       "max                6.460000            14996.000000    4.172717   \n",
       "\n",
       "       Serum Creatinine  \n",
       "count        250.000000  \n",
       "mean         117.983519  \n",
       "std           40.637299  \n",
       "min           38.237198  \n",
       "25%           84.701509  \n",
       "50%          117.691690  \n",
       "75%          151.857328  \n",
       "max          205.755871  "
      ]
     },
     "execution_count": 19,
     "metadata": {},
     "output_type": "execute_result"
    }
   ],
   "source": [
    "df.describe()"
   ]
  },
  {
   "cell_type": "code",
   "execution_count": 21,
   "id": "284c86a1-7189-4ed5-bc53-812b656245d8",
   "metadata": {},
   "outputs": [
    {
     "data": {
      "text/plain": [
       "count    250.000000\n",
       "mean      57.983781\n",
       "std       17.737879\n",
       "min        4.323176\n",
       "25%       46.676049\n",
       "50%       58.138066\n",
       "75%       71.345585\n",
       "max       96.128144\n",
       "Name: CKD Risk Score, dtype: float64"
      ]
     },
     "execution_count": 21,
     "metadata": {},
     "output_type": "execute_result"
    }
   ],
   "source": [
    "df['CKD Risk Score'].describe()"
   ]
  },
  {
   "cell_type": "code",
   "execution_count": 24,
   "id": "c64b0715-7883-4182-b7d0-f910375607ad",
   "metadata": {},
   "outputs": [
    {
     "data": {
      "text/plain": [
       "np.float64(-0.2431038939876664)"
      ]
     },
     "execution_count": 24,
     "metadata": {},
     "output_type": "execute_result"
    }
   ],
   "source": [
    "df[\"CKD Risk Score\"].skew()"
   ]
  },
  {
   "cell_type": "code",
   "execution_count": 27,
   "id": "9c3802c6-e6cc-429a-8dca-e45e80a9579a",
   "metadata": {},
   "outputs": [
    {
     "data": {
      "text/plain": [
       "ID                       -1.200000\n",
       "Age                      -1.238321\n",
       "CKD Risk Score           -0.264414\n",
       "Blood Pressure           -1.234523\n",
       "Blood Sugar              -1.341916\n",
       "Blood Glucose            -1.244434\n",
       "Reticulocyte Count       -0.678210\n",
       "Packed Cell Volume       -1.186234\n",
       "Haemoglobin              -1.192259\n",
       "Red Blood Cell Count     -0.923208\n",
       "White Blood Cell Count   -1.197195\n",
       "Blood Urea               -0.948485\n",
       "Serum Creatinine         -0.965084\n",
       "dtype: float64"
      ]
     },
     "execution_count": 27,
     "metadata": {},
     "output_type": "execute_result"
    }
   ],
   "source": [
    "df.kurtosis(numeric_only=True)"
   ]
  },
  {
   "cell_type": "code",
   "execution_count": 26,
   "id": "7860bb59-92b7-4a20-a812-fb7a508dc590",
   "metadata": {},
   "outputs": [
    {
     "data": {
      "text/plain": [
       "ID                        0.000000\n",
       "Age                      -0.011807\n",
       "CKD Risk Score           -0.243104\n",
       "Blood Pressure           -0.000313\n",
       "Blood Sugar               0.046731\n",
       "Blood Glucose             0.105384\n",
       "Reticulocyte Count        0.088754\n",
       "Packed Cell Volume       -0.010880\n",
       "Haemoglobin               0.019327\n",
       "Red Blood Cell Count     -0.198384\n",
       "White Blood Cell Count    0.052796\n",
       "Blood Urea               -0.043078\n",
       "Serum Creatinine         -0.038642\n",
       "dtype: float64"
      ]
     },
     "execution_count": 26,
     "metadata": {},
     "output_type": "execute_result"
    }
   ],
   "source": [
    "df.skew(numeric_only=True)"
   ]
  },
  {
   "cell_type": "code",
   "execution_count": null,
   "id": "9b90b1b5-5205-4281-97f6-70bd3dff3796",
   "metadata": {},
   "outputs": [],
   "source": []
  }
 ],
 "metadata": {
  "kernelspec": {
   "display_name": "Python [conda env:base] *",
   "language": "python",
   "name": "conda-base-py"
  },
  "language_info": {
   "codemirror_mode": {
    "name": "ipython",
    "version": 3
   },
   "file_extension": ".py",
   "mimetype": "text/x-python",
   "name": "python",
   "nbconvert_exporter": "python",
   "pygments_lexer": "ipython3",
   "version": "3.13.5"
  }
 },
 "nbformat": 4,
 "nbformat_minor": 5
}
